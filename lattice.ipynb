{
 "cells": [
  {
   "cell_type": "code",
   "execution_count": 19,
   "metadata": {
    "scrolled": true
   },
   "outputs": [
    {
     "name": "stdout",
     "output_type": "stream",
     "text": [
      "réseau direct :\n",
      "Structure Summary\n",
      "Lattice\n",
      "    abc : 8.101668558110095 8.101668559877101 8.101668556192129\n",
      " angles : 30.49322770544382 30.493227666626176 30.493227693631304\n",
      " volume : 121.37623664114201\n",
      "      A : 4.11429906 0.0022627 6.97922428\n",
      "      B : 1.90576744 3.64630119 6.97922428\n",
      "      C : 0.00373342 0.0022627 8.10166738\n",
      "PeriodicSite: S (4.6214, 2.8009, 16.9242) [0.7672, 0.7672, 0.7672]\n",
      "PeriodicSite: S (1.4024, 0.8500, 5.1360) [0.2328, 0.2328, 0.2328]\n",
      "PeriodicSite: Rb (0.0000, 0.0000, 0.0000) [0.0000, 0.0000, 0.0000]\n",
      "PeriodicSite: Pr (3.0119, 1.8254, 11.0301) [0.5000, 0.5000, 0.5000]\n",
      "groupe ponctuel : -3m\n",
      "groupe d espace : R-3m\n",
      "système cristallin : trigonal\n",
      "type de maille : rhombohedral\n",
      "réseau réciproque :\n",
      "Lattice\n",
      "    abc : 1.7241572423659433 1.7241572423659435 1.724157242365943\n",
      " angles : 117.57138593887927 117.57138593887927 117.57138593887927\n",
      " volume : 2.0436473516426523\n",
      "      A : 1.5283530547636786 -0.7980320397060926 0.0\n",
      "      B : 0.0 1.7241572423659435 0.0\n",
      "      C : -1.3169652463631962 -0.7980320397060924 0.7755421328831807\n"
     ]
    }
   ],
   "source": [
    "from pymatgen.ext.matproj import MPRester\n",
    "#from pymatgen.io.cif import CifWriter\n",
    "from pprint import pprint\n",
    "from pymatgen.symmetry.analyzer import SpacegroupAnalyzer\n",
    "from pymatgen import Lattice as latt\n",
    "with MPRester(\"MSue3C8DVEAaHs0r\") as m:\n",
    "    struc = m.get_structure_by_material_id(\"mp-9362\")\n",
    "    #w1 = CifWriter(struc)\n",
    "    #w1.write_file('mystructure.cif')\n",
    "    #data1 = m.query(\"mp-9362\",[\"spacegroup.point_group\"])\n",
    "    #data2 = m.query(\"mp-9362\",[\"spacegroup.symbol\"])\n",
    "    print('réseau direct :')\n",
    "    pprint(struc)\n",
    "    sga = SpacegroupAnalyzer(struc)\n",
    "    mesh = sga.get_lattice_type()\n",
    "    cryst = sga.get_crystal_system()\n",
    "    pointgroup = sga.get_point_group_symbol()\n",
    "    spacegroup = sga.get_space_group_symbol()\n",
    "    print('groupe ponctuel :', pointgroup)\n",
    "    print('groupe d espace :', spacegroup)\n",
    "    print('système cristallin :', cryst)\n",
    "    print('type de maille :', mesh)\n",
    "    r = latt.rhombohedral(8.10166855, 30.493227) \n",
    "    rec = r.reciprocal_lattice\n",
    "    #print('réseau réciproque (matrice 3x3) :')\n",
    "    #print(rec)\n",
    "    print('réseau réciproque :')\n",
    "    pprint(rec)\n",
    "    \n"
   ]
  },
  {
   "cell_type": "code",
   "execution_count": null,
   "metadata": {},
   "outputs": [],
   "source": []
  },
  {
   "cell_type": "code",
   "execution_count": null,
   "metadata": {},
   "outputs": [],
   "source": []
  }
 ],
 "metadata": {
  "kernelspec": {
   "display_name": "Python 3",
   "language": "python",
   "name": "python3"
  },
  "language_info": {
   "codemirror_mode": {
    "name": "ipython",
    "version": 3
   },
   "file_extension": ".py",
   "mimetype": "text/x-python",
   "name": "python",
   "nbconvert_exporter": "python",
   "pygments_lexer": "ipython3",
   "version": "3.6.8"
  }
 },
 "nbformat": 4,
 "nbformat_minor": 2
}
