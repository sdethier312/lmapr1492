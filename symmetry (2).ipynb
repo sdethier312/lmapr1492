{
 "cells": [
  {
   "cell_type": "code",
   "execution_count": 5,
   "metadata": {
    "scrolled": false
   },
   "outputs": [],
   "source": [
    "from pymatgen.ext.matproj import MPRester\n",
    "from pprint import pprint\n",
    "from pymatgen.core.operations import SymmOp\n",
    "with MPRester(\"MSue3C8DVEAaHs0r\") as m:\n",
    "    struc = m.get_structure_by_material_id(\"mp-9362\")\n"
   ]
  },
  {
   "cell_type": "markdown",
   "metadata": {},
   "source": [
    "Première symmétrie : Le plan miroir.\n",
    "\n",
    "Il s'agit de l'opérateur n°8 dans Jmol Crystal Symmetry Explorer."
   ]
  },
  {
   "cell_type": "code",
   "execution_count": 6,
   "metadata": {},
   "outputs": [
    {
     "name": "stdout",
     "output_type": "stream",
     "text": [
      "Matrice de rotation:\n",
      "[[ 0. -1.  0.]\n",
      " [-1.  0.  0.]\n",
      " [ 0.  0.  1.]]\n"
     ]
    }
   ],
   "source": [
    "symm1 = SymmOp.from_xyz_string('-y, -x, z')\n",
    "print('Matrice de rotation:')\n",
    "print(symm1.rotation_matrix)"
   ]
  },
  {
   "cell_type": "markdown",
   "metadata": {},
   "source": [
    "Lorsque nous appliquons cette opération de symmétrie à l'atome de Rubidium situé en [1/3 2/3 2/3], celui-ci se retrouve à une position différente."
   ]
  },
  {
   "cell_type": "code",
   "execution_count": 7,
   "metadata": {},
   "outputs": [
    {
     "name": "stdout",
     "output_type": "stream",
     "text": [
      "Coordonnées du Rb après application du plan miroir:\n",
      "[-0.66666667 -0.33333333  0.66666667]\n"
     ]
    }
   ],
   "source": [
    "print('Coordonnées du Rb après application du plan miroir:')\n",
    "\n",
    "print(symm1.operate((1/3, 2/3, 2/3)))\n",
    "\n"
   ]
  },
  {
   "cell_type": "markdown",
   "metadata": {},
   "source": [
    "On remarque bien que la coordonnée en z ne change pas et que les coordonnées x et y s'inversent tout en changeant de signe. (x devient -y et y devient -x)"
   ]
  },
  {
   "cell_type": "markdown",
   "metadata": {},
   "source": [
    "![plan_miroir_Rb0_11.PNG](plan_miroir_Rb0_11.PNG)"
   ]
  },
  {
   "cell_type": "markdown",
   "metadata": {},
   "source": [
    "Remarque: Si l'on applique cette symmétrie sur un atome se trouvant sur le plan miroir, celui-ci ne changera pas de position. L'image renvoyée est l'atome lui-même. On peut le constater sur l'atome de Praséodyme situé en [0 0 1/2]."
   ]
  },
  {
   "cell_type": "code",
   "execution_count": 8,
   "metadata": {},
   "outputs": [
    {
     "name": "stdout",
     "output_type": "stream",
     "text": [
      "Coordonnées du Pr après application du plan miroir:\n",
      "[0.  0.  0.5]\n"
     ]
    }
   ],
   "source": [
    "print('Coordonnées du Pr après application du plan miroir:')\n",
    "print(symm1.operate((0, 0, 1/2)))"
   ]
  },
  {
   "attachments": {},
   "cell_type": "markdown",
   "metadata": {},
   "source": [
    "![plan_miroir_sur_axe_Pr1_2.PNG](plan_miroir_sur_axe_Pr1_2.PNG)"
   ]
  },
  {
   "cell_type": "markdown",
   "metadata": {},
   "source": [
    "Deuxième symmétrie : Le centre d'inversion.\n",
    "\n",
    "Il s'agit de l'opérateur n°14 dans Jmol Crystal Symmetry Explorer."
   ]
  },
  {
   "cell_type": "code",
   "execution_count": 9,
   "metadata": {},
   "outputs": [
    {
     "name": "stdout",
     "output_type": "stream",
     "text": [
      "Matrice d'inversion:\n",
      "[[-1.  0.  0.]\n",
      " [ 0. -1.  0.]\n",
      " [ 0.  0. -1.]]\n"
     ]
    }
   ],
   "source": [
    "symm2 = SymmOp.from_xyz_string('-x-1/3, -y+1/3, -z+1/3')\n",
    "print(\"Matrice d'inversion:\")\n",
    "print(symm2.rotation_matrix)"
   ]
  },
  {
   "attachments": {},
   "cell_type": "markdown",
   "metadata": {},
   "source": [
    "Cette matrice correspond uniquement à l'inversion en prenant le centre d'inversion comme origine. Lorsque ce centre d'inversion ne se trouve pas en [0 0 0], il faut ajouter une translation. L'équation de transformation devient alors:"
   ]
  },
  {
   "cell_type": "markdown",
   "metadata": {},
   "source": [
    "![CI_2.PNG](CI_2.PNG)"
   ]
  },
  {
   "cell_type": "markdown",
   "metadata": {},
   "source": [
    "Lorsque nous appliquons cette opération de symmétrie à l'atome de Rubidium situé en [2/3 1/3 1/3], celui-ci se retrouve à une position différente."
   ]
  },
  {
   "cell_type": "code",
   "execution_count": 10,
   "metadata": {},
   "outputs": [
    {
     "name": "stdout",
     "output_type": "stream",
     "text": [
      "Coordonnées du Rb après application de l'inversion:\n",
      "[-1.  0.  0.]\n"
     ]
    }
   ],
   "source": [
    "print(\"Coordonnées du Rb après application de l'inversion:\")\n",
    "print(symm2.operate((2/3, 1/3, 1/3)))"
   ]
  },
  {
   "attachments": {},
   "cell_type": "markdown",
   "metadata": {},
   "source": [
    "![centre_inversion_Rb0_6.PNG](centre_inversion_Rb0_6.PNG)"
   ]
  },
  {
   "cell_type": "markdown",
   "metadata": {},
   "source": [
    "Troisième symmétrie: La roto-inversion.\n",
    "\n",
    "Il s'agit de l'opérateur n°16 dans Jmol Crystal Symmetry Explorer."
   ]
  },
  {
   "cell_type": "code",
   "execution_count": 11,
   "metadata": {},
   "outputs": [
    {
     "name": "stdout",
     "output_type": "stream",
     "text": [
      "Matrice de rotation:\n",
      "[[ 0.  1.  0.]\n",
      " [-1.  1.  0.]\n",
      " [ 0.  0. -1.]]\n"
     ]
    }
   ],
   "source": [
    "symm3 = SymmOp.from_xyz_string('y-1/3, -x+y+1/3, -z+1/3')\n",
    "print('Matrice de rotation:')\n",
    "print(symm3.rotation_matrix)"
   ]
  },
  {
   "attachments": {},
   "cell_type": "markdown",
   "metadata": {},
   "source": [
    "Comme précédemment, nous devons ajouter la translation dûe au fait que le centre d'inversion ne se trouve pas en [0 0 0]. Nous obtenons l'équation suivante:"
   ]
  },
  {
   "cell_type": "markdown",
   "metadata": {},
   "source": [
    "![3bar.PNG](3bar.PNG)"
   ]
  },
  {
   "cell_type": "markdown",
   "metadata": {},
   "source": [
    "Lorsque nous appliquons cette opération de symmétrie à l'atome de Soufre situé en [2/3 1/3 1/10], celui-ci se retrouve à une position différente."
   ]
  },
  {
   "cell_type": "code",
   "execution_count": 22,
   "metadata": {},
   "outputs": [
    {
     "name": "stdout",
     "output_type": "stream",
     "text": [
      "Coordonnées du Rb après application de la roto-inversion:\n",
      "[0.         0.         0.23333333]\n"
     ]
    }
   ],
   "source": [
    "print(\"Coordonnées du S après application de la roto-inversion:\")\n",
    "print(symm3.operate((2/3, 1/3, 1/10)))"
   ]
  },
  {
   "attachments": {},
   "cell_type": "markdown",
   "metadata": {},
   "source": [
    "![3bar_S2_10.PNG](3bar_S2_10.PNG)"
   ]
  },
  {
   "cell_type": "markdown",
   "metadata": {},
   "source": [
    "On observe bien une inversion (flèche bleue) suivie d'une rotation d'odre 3.\n",
    "On peut remarquer que le centre d'inversion se trouve à la position d'un atome de Pr, situé en [1/3, 2/3,1/6]. De ce fait, si l'on applique cette transfomation à cet atome, l'image renvoyée sera l'atome lui-même. (idem que pour le plan miroir, vu précédemment)"
   ]
  },
  {
   "cell_type": "code",
   "execution_count": 23,
   "metadata": {},
   "outputs": [
    {
     "name": "stdout",
     "output_type": "stream",
     "text": [
      "Coordonnées du Pr après application de la roto-inversion:\n",
      "[0.33333333 0.66666667 0.16666667]\n"
     ]
    }
   ],
   "source": [
    "print(\"Coordonnées du Pr après application de la roto-inversion:\")\n",
    "print(symm3.operate((1/3, 2/3, 1/6)))"
   ]
  },
  {
   "attachments": {},
   "cell_type": "markdown",
   "metadata": {},
   "source": [
    "![3bar_Pr1_12.PNG](3bar_Pr1_12.PNG)"
   ]
  },
  {
   "cell_type": "code",
   "execution_count": null,
   "metadata": {},
   "outputs": [],
   "source": []
  }
 ],
 "metadata": {
  "kernelspec": {
   "display_name": "Python 3",
   "language": "python",
   "name": "python3"
  },
  "language_info": {
   "codemirror_mode": {
    "name": "ipython",
    "version": 3
   },
   "file_extension": ".py",
   "mimetype": "text/x-python",
   "name": "python",
   "nbconvert_exporter": "python",
   "pygments_lexer": "ipython3",
   "version": "3.6.8"
  }
 },
 "nbformat": 4,
 "nbformat_minor": 2
}
